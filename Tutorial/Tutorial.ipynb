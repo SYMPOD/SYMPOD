{
 "cells": [
  {
   "cell_type": "markdown",
   "metadata": {},
   "source": [
    "# Loading Data for SYMPOD\n",
    "\n",
    "This tutorial shows the structure of SYMPOD and how to load the data in a simple way."
   ]
  },
  {
   "cell_type": "markdown",
   "metadata": {},
   "source": [
    "## Dataset Structure\n",
    "\n",
    "The SYMPOD dataset is organized into two main folders: 'Structures' and 'Powder_images'. Within the 'Structures' folder, you will find JSON files that contain information about each crystalline structure. The 'Powder_images' folder, on the other hand, includes PNG files of simulated radial images corresponding to each structure. The organization of these folders and files is illustrated in the image below.\n",
    "\n",
    "\n",
    "![](Diagrama.jpeg)\n",
    "\n",
    "Each JSON file features a dictionary that provides details about a specific crystal structure. The keys in the dictionary include 'ID', 'space_group', 'alpha', 'beta', 'gamma', 'a', 'b', 'c', 'atoms', and 'intensities'. It is important to note that the 'ID' key serves as the identifier for both the structure (formatted as 'ID.json') and its associated radial image (formatted as 'ID.png'). The 'space_group' key contains symmetry information as an integer between 1 and 230. The keys 'alpha', 'beta', 'gamma', 'a', 'b', and 'c' represent the cell parameters, while the 'atoms' key contains information about atomic numbers, coordinates, and occupancy. Finally, the 'intensities' key holds the simulated powder diffractogram related to the structure."
   ]
  },
  {
   "cell_type": "markdown",
   "metadata": {},
   "source": [
    "## File Download\n",
    "\n",
    "To use the dataset, first download the 'Data' folder. After that, unzip the 'Structures' and 'Powder_images' folders contained within the 'Data' folder.\n",
    "\n",
    "**Caution:** When unzipping, additional 'Structures' and 'Powder_images' folders may be created. If this happens, please delete these extra folders to ensure compliance with the file structure outlined in the previous image. Once you have completed this process, you can proceed to load the data.\n",
    "\n",
    "**Important:** The tutorial file must be located in the same directory as the 'Data' folder.\n"
   ]
  },
  {
   "cell_type": "markdown",
   "metadata": {},
   "source": [
    "## Loading of Crystal Structures\n",
    "\n",
    "First, import the required python libraries."
   ]
  },
  {
   "cell_type": "code",
   "execution_count": 1,
   "metadata": {},
   "outputs": [],
   "source": [
    "import os\n",
    "import glob\n",
    "import json\n",
    "import numpy as np\n",
    "from skimage import io\n",
    "import matplotlib.pyplot as plt"
   ]
  },
  {
   "cell_type": "markdown",
   "metadata": {},
   "source": [
    "Let's start by generating a list of the paths associated with all the structures."
   ]
  },
  {
   "cell_type": "code",
   "execution_count": 2,
   "metadata": {},
   "outputs": [],
   "source": [
    "structures_paths = glob.glob(os.path.join('Data', 'Structures', '*.json'))\n",
    "len(structures_paths)"
   ]
  },
  {
   "cell_type": "markdown",
   "metadata": {},
   "source": [
    "The list contains approximately 500 thousand paths of all crystal structures in the dataset. Let's load a crystal structure to see its content. "
   ]
  },
  {
   "cell_type": "code",
   "execution_count": 3,
   "metadata": {},
   "outputs": [],
   "source": [
    "structure_path = structures_paths[0]\n",
    "file = open(structure_path)\n",
    "structure = json.load(file)"
   ]
  },
  {
   "cell_type": "markdown",
   "metadata": {},
   "source": [
    "Let's see the ID, the cell parameters and the space group of this structure."
   ]
  },
  {
   "cell_type": "code",
   "execution_count": 4,
   "metadata": {},
   "outputs": [],
   "source": [
    "for i in ['ID', 'space_group', 'a', 'b', 'c', 'alpha', 'beta', 'gamma']:\n",
    "    print(i+':', structure[i])"
   ]
  },
  {
   "cell_type": "markdown",
   "metadata": {},
   "source": [
    "Now let's look at the atoms, their occupancy and their different coordinates."
   ]
  },
  {
   "cell_type": "code",
   "execution_count": 5,
   "metadata": {},
   "outputs": [],
   "source": [
    "print(np.array(structure['atoms']))"
   ]
  },
  {
   "cell_type": "markdown",
   "metadata": {},
   "source": [
    "We can see that the first column contains the atomic numbers, the second the occupancy and the last three the normalized Cartesian coordinates (X, Y, Z). Finally, let's load the simulated powder diffractogram associated with the structure."
   ]
  },
  {
   "cell_type": "code",
   "execution_count": 6,
   "metadata": {},
   "outputs": [],
   "source": [
    "powder_drx = structure['intensities']\n",
    "len(powder_drx)"
   ]
  },
  {
   "cell_type": "markdown",
   "metadata": {},
   "source": [
    "This diffractogram contains 10824 intensity points with a $2\\theta$ range between 5° and 90°. Let's visualize it."
   ]
  },
  {
   "cell_type": "code",
   "execution_count": 7,
   "metadata": {},
   "outputs": [],
   "source": [
    "thetas = np.linspace(5, 90, 10824)\n",
    "\n",
    "plt.figure()\n",
    "plt.plot(thetas, powder_drx)\n",
    "plt.xlabel('$\\\\theta$')\n",
    "plt.ylabel('Intensity')\n",
    "plt.show()"
   ]
  },
  {
   "cell_type": "markdown",
   "metadata": {},
   "source": [
    "## Image Loading\n",
    "\n",
    "To load an image associated to a structure, you need its ID. Let's see the simulated image associated to the structure we loaded previously."
   ]
  },
  {
   "cell_type": "code",
   "execution_count": 8,
   "metadata": {},
   "outputs": [],
   "source": [
    "ID = structure['ID']\n",
    "image_path = os.path.join('Data', 'Powder_images', ID+'.png')\n",
    "image = np.array(io.imread(image_path))\n",
    "print(image.shape)"
   ]
  },
  {
   "cell_type": "markdown",
   "metadata": {},
   "source": [
    "The dimension of all the images is 521 x 521. Let's visualize the loaded image."
   ]
  },
  {
   "cell_type": "code",
   "execution_count": 11,
   "metadata": {},
   "outputs": [],
   "source": [
    "plt.figure()\n",
    "plt.imshow(image, cmap ='gray')\n",
    "plt.axis('off')\n",
    "plt.show()"
   ]
  },
  {
   "cell_type": "markdown",
   "metadata": {},
   "source": [
    "Great! Now you are able to use SYMPOD dataset."
   ]
  },
  {
   "cell_type": "markdown",
   "metadata": {},
   "source": [
    "## References\n",
    "\n",
    "Vaitkus, A., Merkys, A., Sander, T., Quirós, M., Thiessen, P. A., Bolton, E. E. & Gražulis, S. (2023). A workflow for deriving chemical entities from crystallographic data and its application to the Crystallography Open Database. Journal of Cheminformatics, 15(1). https://doi.org/10.1186/s13321-023-00780-2.\n",
    "\n",
    "Merkys, A.; Vaitkus, A.; Grybauskas, A.; Konovalovas, A.; Quirós, M. & Gražulis, S. \"Graph isomorphism-based algorithm for cross-checking chemical and crystallographic descriptions\". Journal of Cheminformatics, Springer Nature, 2023, 15.\n",
    "\n",
    "Vaitkus, A., Merkys, A. & Gražulis, S. (2021). Validation of the Crystallography Open Database using the Crystallographic Information Framework. Journal of Applied Crystallography, 54(2), 661-672. https://doi.org/10.1107/S1600576720016532\n",
    "\n",
    "Quirós, M.; Gražulis, S.; Girdzijauskaitė, S.; Merkys, A. & Vaitkus, A. \"Using SMILES strings for the description of chemical connectivity in the Crystallography Open Database\". Journal of Cheminformatics, Springer Nature, 2018, 10\n",
    "\n",
    "Merkys, A.; Vaitkus, A.; Butkus, J.; Okulič-Kazarinas, M.; Kairys, V. & Gražulis, S. (2016) \"COD::CIF::Parser: an error-correcting CIF parser for the Perl language\". Journal of Applied Crystallography, 49.\n",
    "\n",
    "Gražulis, S., Merkys, A., Vaitkus, A. & Okulič-Kazarinas, M. (2015) \"Computing stoichiometric molecular composition from crystal structures\". Journal of Applied Crystallography 48, 85-91.\n",
    "\n",
    "Gražulis, S., Daškevič, A., Merkys, A., Chateigner, D., Lutterotti, L., Quirós, M., Serebryanaya, N. R., Moeck, P., Downs, R. T. & LeBail, A. (2012) \"Crystallography Open Database (COD): an open-access collection of crystal structures and platform for world-wide collaboration\". Nucleic Acids Research 40, D420-D427.\n",
    "\n",
    "Grazulis, S., Chateigner, D., Downs, R. T., Yokochi, A.  T., Quiros, M., Lutterotti, L., Manakova, E., Butkus, J., Moeck, P. & Le Bail, A. (2009) \"Crystallography Open Database - an open-access collection of crystal structures\". J. Appl. Cryst. 42, 726-729.\n",
    "\n",
    "Downs, R. T. & Hall-Wallace, M. (2003) \"The American Mineralogist  Crystal Structure Database\". American Mineralogist 88, 247-250.\n",
    "\n",
    "Dan Porter, & Carmelo Prestipino. (2023). DanPorter/Dans_Diffraction: Version 3.0.0 (v3.0). Zenodo. https://doi.org/10.5281/zenodo.8106031\n",
    "\n"
   ]
  }
 ],
 "metadata": {
  "kernelspec": {
   "display_name": "Python 3",
   "language": "python",
   "name": "python3"
  },
  "language_info": {
   "codemirror_mode": {
    "name": "ipython",
    "version": 3
   },
   "file_extension": ".py",
   "mimetype": "text/x-python",
   "name": "python",
   "nbconvert_exporter": "python",
   "pygments_lexer": "ipython3",
   "version": "3.12.3"
  }
 },
 "nbformat": 4,
 "nbformat_minor": 2
}
